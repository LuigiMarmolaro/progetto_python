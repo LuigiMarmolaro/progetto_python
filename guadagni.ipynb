{
 "cells": [
  {
   "cell_type": "code",
   "execution_count": 21,
   "metadata": {},
   "outputs": [
    {
     "name": "stdout",
     "output_type": "stream",
     "text": [
      "il guadagno totale è: 1, il guadagno percentuale è: + inf%\n"
     ]
    }
   ],
   "source": [
    "def guadagni(prezzo_iniziale, prezzo_finale, quantità):\n",
    "\n",
    "    if prezzo_iniziale==0 and prezzo_finale>prezzo_iniziale:\n",
    "        guadagno_percentuale= \"+ inf\"\n",
    "    \n",
    "    if prezzo_iniziale==0 and prezzo_finale==prezzo_iniziale:\n",
    "        guadagno_percentuale=0\n",
    "\n",
    "    if prezzo_iniziale!=0:\n",
    "        guadagno_percentuale= ((prezzo_finale-prezzo_iniziale)/(prezzo_iniziale))*100\n",
    "\n",
    "    guadagno_totale= (prezzo_finale-prezzo_iniziale)*quantità\n",
    "    \n",
    "\n",
    "    print(f\"il guadagno totale è: {guadagno_totale}, il guadagno percentuale è: {guadagno_percentuale}%\")\n",
    "\n",
    "\n",
    "guadagni(0,1,1)\n"
   ]
  }
 ],
 "metadata": {
  "kernelspec": {
   "display_name": "Python 3",
   "language": "python",
   "name": "python3"
  },
  "language_info": {
   "codemirror_mode": {
    "name": "ipython",
    "version": 3
   },
   "file_extension": ".py",
   "mimetype": "text/x-python",
   "name": "python",
   "nbconvert_exporter": "python",
   "pygments_lexer": "ipython3",
   "version": "3.9.6"
  }
 },
 "nbformat": 4,
 "nbformat_minor": 2
}
